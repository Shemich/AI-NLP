{
 "cells": [
  {
   "cell_type": "code",
   "execution_count": 4,
   "id": "infectious-extra",
   "metadata": {},
   "outputs": [],
   "source": [
    "import os\n",
    "import pandas as pd\n",
    "\n",
    "# Создаем пустой датасет\n",
    "dataset = pd.DataFrame(columns=['text', 'style', 'theme'])\n",
    "\n",
    "# Путь к папке с текстами\n",
    "path = 'data'\n",
    "\n",
    "# Список стилей и тематик\n",
    "styles = ['научный', 'официально-деловой', 'публицистический', 'художественный', 'разговорный']\n",
    "themes = ['Наука', 'Экономика', 'Культура', 'Политика']\n",
    "# Обход всех файлов в папке\n",
    "for root, dirs, files in os.walk(path):\n",
    "    for file in files:\n",
    "        # Чтение файла\n",
    "        with open(os.path.join(root, file), 'r', encoding='utf-8') as f:\n",
    "            text = f.read()\n",
    "        \n",
    "        # Извлечение стиля и тематики из имени файла\n",
    "        theme, style, _ = file.split('_')\n",
    "        \n",
    "        # Добавление текста в датасет\n",
    "        dataset = dataset.append({'text': text, 'style': style, 'theme': theme}, ignore_index=True)\n",
    "\n",
    "# Сохранение датасета в CSV файл\n",
    "dataset.to_csv('dataset.csv', index=False)\n"
   ]
  },
  {
   "cell_type": "code",
   "execution_count": 10,
   "id": "settled-entrepreneur",
   "metadata": {},
   "outputs": [
    {
     "data": {
      "text/html": [
       "<div>\n",
       "<style scoped>\n",
       "    .dataframe tbody tr th:only-of-type {\n",
       "        vertical-align: middle;\n",
       "    }\n",
       "\n",
       "    .dataframe tbody tr th {\n",
       "        vertical-align: top;\n",
       "    }\n",
       "\n",
       "    .dataframe thead th {\n",
       "        text-align: right;\n",
       "    }\n",
       "</style>\n",
       "<table border=\"1\" class=\"dataframe\">\n",
       "  <thead>\n",
       "    <tr style=\"text-align: right;\">\n",
       "      <th></th>\n",
       "      <th>text</th>\n",
       "      <th>style</th>\n",
       "      <th>theme</th>\n",
       "    </tr>\n",
       "  </thead>\n",
       "  <tbody>\n",
       "    <tr>\n",
       "      <th>0</th>\n",
       "      <td>АРХИТЕКТУРА В АНТРОПОЛОГИЧЕСКОМ ИЗМЕРЕНИИ\\n\\nГ...</td>\n",
       "      <td>научный</td>\n",
       "      <td>Культура</td>\n",
       "    </tr>\n",
       "    <tr>\n",
       "      <th>1</th>\n",
       "      <td>«Затем король упоминает о красивом доме канцле...</td>\n",
       "      <td>научный</td>\n",
       "      <td>Культура</td>\n",
       "    </tr>\n",
       "    <tr>\n",
       "      <th>2</th>\n",
       "      <td>Основная проблема, связанная с использованием ...</td>\n",
       "      <td>научный</td>\n",
       "      <td>Культура</td>\n",
       "    </tr>\n",
       "    <tr>\n",
       "      <th>3</th>\n",
       "      <td>3 января в Доме культуры «Соболевский» прошел ...</td>\n",
       "      <td>официально-деловой</td>\n",
       "      <td>Культура</td>\n",
       "    </tr>\n",
       "    <tr>\n",
       "      <th>4</th>\n",
       "      <td>Отчёты по мероприятиям 2020-2022\\n30.12.2022 Ю...</td>\n",
       "      <td>официально-деловой</td>\n",
       "      <td>Культура</td>\n",
       "    </tr>\n",
       "  </tbody>\n",
       "</table>\n",
       "</div>"
      ],
      "text/plain": [
       "                                                text               style  \\\n",
       "0  АРХИТЕКТУРА В АНТРОПОЛОГИЧЕСКОМ ИЗМЕРЕНИИ\\n\\nГ...             научный   \n",
       "1  «Затем король упоминает о красивом доме канцле...             научный   \n",
       "2  Основная проблема, связанная с использованием ...             научный   \n",
       "3  3 января в Доме культуры «Соболевский» прошел ...  официально-деловой   \n",
       "4  Отчёты по мероприятиям 2020-2022\\n30.12.2022 Ю...  официально-деловой   \n",
       "\n",
       "      theme  \n",
       "0  Культура  \n",
       "1  Культура  \n",
       "2  Культура  \n",
       "3  Культура  \n",
       "4  Культура  "
      ]
     },
     "execution_count": 10,
     "metadata": {},
     "output_type": "execute_result"
    }
   ],
   "source": [
    "import pandas as pd\n",
    "\n",
    "dataset = pd.read_csv('dataset.csv')\n",
    "\n",
    "dataset.head()"
   ]
  },
  {
   "cell_type": "code",
   "execution_count": null,
   "id": "subtle-birth",
   "metadata": {},
   "outputs": [],
   "source": []
  }
 ],
 "metadata": {
  "kernelspec": {
   "display_name": "Python 3",
   "language": "python",
   "name": "python3"
  },
  "language_info": {
   "codemirror_mode": {
    "name": "ipython",
    "version": 3
   },
   "file_extension": ".py",
   "mimetype": "text/x-python",
   "name": "python",
   "nbconvert_exporter": "python",
   "pygments_lexer": "ipython3",
   "version": "3.9.1"
  }
 },
 "nbformat": 4,
 "nbformat_minor": 5
}
